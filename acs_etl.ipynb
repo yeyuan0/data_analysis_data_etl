{
 "cells": [
  {
   "cell_type": "code",
   "execution_count": 95,
   "metadata": {},
   "outputs": [],
   "source": [
    "import pandas as pd\n",
    "import censusdata\n",
    "def get_data_in_state(variables, state='36', county='*', block='*', data_type='acs5', year=2018):\n",
    "    if block:\n",
    "        datas = []\n",
    "        geos = censusdata.geographies(censusdata.censusgeo([('state', state),('county', county)]), data_type, year)\n",
    "        for geo in list(geos.values())[:3]:\n",
    "            cur_data = censusdata.download(\n",
    "                    data_type, year,\n",
    "                    censusdata.censusgeo([('state', state), ('county', geo.params()[1][1]), ('block group', block)]),\n",
    "                    list(variables.keys()))\n",
    "            datas.append(cur_data)\n",
    "        data = pd.concat(datas)\n",
    "    elif county:\n",
    "        data = censusdata.download(\n",
    "                data_type, year,\n",
    "                censusdata.censusgeo([('state', state), ('county', county)]),\n",
    "                list(variables.keys()),\n",
    "                tabletype=table_type)\n",
    "    else:\n",
    "        data = censusdata.download(\n",
    "                data_type, year,\n",
    "                censusdata.censusgeo([('state', state)]),\n",
    "                list(variables.keys()),\n",
    "                tabletype=table_type)\n",
    "    data.rename(columns=variables, inplace=True)\n",
    "    return data\n",
    "\n",
    "variables = {'B02001_001E': 'total_population',\n",
    "             'B03001_003E': 'hispanic_or_latino',\n",
    "             'B02001_002E': 'white',\n",
    "             'B02001_003E': 'black_or_African',\n",
    "             'B02001_004E': 'indian_and_alaska_native',\n",
    "             'B02001_005E': 'asian',\n",
    "             'B02001_006E': 'native_hawaiian_and_other_pacific_islander',\n",
    "             'B09019_001E': 'total_in_living_units',\n",
    "             'B09019_002E': 'total_in_households',\n",
    "             'B09019_003E': 'in_family_households',\n",
    "             'B19013_001E': 'median_household_income',\n",
    "             'B01002_001E': 'median_age',\n",
    "             'B23013_001E': 'aggregate_usual_work_hours',\n",
    "             'C24050_001E': 'total_employed',\n",
    "             'C24050_004E': 'manufacturing_employed',\n",
    "             'C24050_007E': 'transportation_warehousing_utilities_employed',\n",
    "            }"
   ]
  },
  {
   "cell_type": "code",
   "execution_count": 96,
   "metadata": {},
   "outputs": [],
   "source": [
    "data = get_data_in_state(variables, state='36', county='*', block='*', data_type='acs5', year=2015)\n",
    "\n",
    "data['State'] = [data.index[i].params()[0][1] for i in range(data.shape[0])]\n",
    "data['County'] = [data.index[i].params()[1][1] for i in range(data.shape[0])]\n",
    "data['Tract'] = [data.index[i].params()[2][1] for i in range(data.shape[0])]\n",
    "data['BlockGroup'] = [data.index[i].params()[3][1] for i in range(data.shape[0])]\n",
    "data.dropna(axis=1, how='all', inplace=True)\n",
    "data.reset_index(drop=True, inplace=True)\n",
    "\n",
    "data.to_csv('acs_data_yeyuan2.csv', index=False)"
   ]
  },
  {
   "cell_type": "code",
   "execution_count": 88,
   "metadata": {},
   "outputs": [],
   "source": [
    "# test_dic = {'B19326_001E':'a', 'C24030_007E':'male_manufacturing', 'C24030_010E':'male_trans_storage_utilities',\n",
    "#            'C24040_034E':'female_manufacturing', 'C24040_037E':'female_trans_storage_utilities'}\n",
    "# test = get_data_in_state(test_dic, state='36', county='*', block='*', data_type='acs5', year=2018)"
   ]
  }
 ],
 "metadata": {
  "kernelspec": {
   "display_name": "data_analysis",
   "language": "python",
   "name": "data_analysis"
  },
  "language_info": {
   "codemirror_mode": {
    "name": "ipython",
    "version": 3
   },
   "file_extension": ".py",
   "mimetype": "text/x-python",
   "name": "python",
   "nbconvert_exporter": "python",
   "pygments_lexer": "ipython3",
   "version": "3.7.8"
  }
 },
 "nbformat": 4,
 "nbformat_minor": 4
}
