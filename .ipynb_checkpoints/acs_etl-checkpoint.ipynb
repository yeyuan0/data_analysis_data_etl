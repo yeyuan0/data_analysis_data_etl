{
 "cells": [
  {
   "cell_type": "code",
   "execution_count": 45,
   "metadata": {},
   "outputs": [],
   "source": [
    "import pandas as pd\n",
    "import censusdata\n",
    "def get_tract_data_in_state(variables, state='36', county='*', tract='*', data_type='acs5', year=2018, table_type='profile'):\n",
    "    if tract:\n",
    "        data = censusdata.download(\n",
    "                data_type, year,\n",
    "                censusdata.censusgeo([('state', state), ('county', county), ('tract', tract)]),\n",
    "                list(variables.keys()),\n",
    "                tabletype=table_type)\n",
    "    elif county:\n",
    "        data = censusdata.download(\n",
    "                data_type, year,\n",
    "                censusdata.censusgeo([('state', state), ('county', county)]),\n",
    "                list(variables.keys()),\n",
    "                tabletype=table_type)\n",
    "    else:\n",
    "        data = censusdata.download(\n",
    "                data_type, year,\n",
    "                censusdata.censusgeo([('state', state)]),\n",
    "                list(variables.keys()),\n",
    "                tabletype=table_type)\n",
    "    data.rename(columns=variables, inplace=True)\n",
    "    return data\n",
    "\n",
    "variables = {'DP05_0070E': 'Estimate!!HISPANIC OR LATINO AND RACE!!Total population',\n",
    "             'DP05_0071E': 'Hispanic or Latino (any race)',\n",
    "             'DP05_0077E': 'White alone',\n",
    "             'DP05_0078E': 'Black or African American alone',\n",
    "             'DP05_0079E': 'American Indian and Alaska Native alone',\n",
    "             'DP05_0080E': 'Asian alone',\n",
    "             'DP05_0081E': 'Native Hawaiian and Other Pacific Islander alone',\n",
    "             'DP02_0001E': 'Estimate!!HOUSEHOLDS BY TYPE!!Total households',\n",
    "             'DP02_0002E': 'Estimate!!HOUSEHOLDS BY TYPE!!Total households!!Family households (families)',\n",
    "             'DP03_0062E': 'Estimate!!INCOME AND BENEFITS (IN 2018 INFLATION-ADJUSTED DOLLARS)!!Total households!!Median household income (dollars)',\n",
    "             'DP03_0063E': 'Estimate!!INCOME AND BENEFITS (IN 2018 INFLATION-ADJUSTED DOLLARS)!!Total households!!Mean household income (dollars)',\n",
    "             'DP03_0096E': 'Estimate!!HEALTH INSURANCE COVERAGE!!Civilian noninstitutionalized population!!With health insurance coverage',\n",
    "             'DP05_0018E': 'Estimate!!SEX AND AGE!!Total population!!Median age (years)',\n",
    "             'DP03_0032E': 'Estimate!!INDUSTRY!!Civilian employed population 16 years and over',\n",
    "             'DP03_0035E': 'Estimate!!INDUSTRY!!Civilian employed population 16 years and over!!Manufacturing',\n",
    "            }\n"
   ]
  },
  {
   "cell_type": "code",
   "execution_count": 46,
   "metadata": {},
   "outputs": [],
   "source": [
    "data = get_tract_data_in_state(variables, state='36', county='*', tract='*', data_type='acs5', year=2018, table_type='profile')\n",
    "\n",
    "data['State'] = [data.index[i].params()[1][1] for i in range(data.shape[0])]\n",
    "data['County'] = [data.index[i].params()[1][1] for i in range(data.shape[0])]\n",
    "data['Tract'] = [data.index[i].params()[2][1] for i in range(data.shape[0])]\n",
    "data.reset_index(drop=True, inplace=True)\n",
    "\n",
    "data.to_csv('acs_data_yeyuan2.csv')\n"
   ]
  }
 ],
 "metadata": {
  "kernelspec": {
   "display_name": "data_analysis",
   "language": "python",
   "name": "data_analysis"
  },
  "language_info": {
   "codemirror_mode": {
    "name": "ipython",
    "version": 3
   },
   "file_extension": ".py",
   "mimetype": "text/x-python",
   "name": "python",
   "nbconvert_exporter": "python",
   "pygments_lexer": "ipython3",
   "version": "3.7.8"
  }
 },
 "nbformat": 4,
 "nbformat_minor": 4
}
